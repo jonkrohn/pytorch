{
  "nbformat": 4,
  "nbformat_minor": 0,
  "metadata": {
    "colab": {
      "name": "shallow_net_in_pytorch.ipynb",
      "version": "0.3.2",
      "provenance": [],
      "include_colab_link": true
    },
    "kernelspec": {
      "name": "python3",
      "display_name": "Python 3"
    },
    "accelerator": "TPU"
  },
  "cells": [
    {
      "cell_type": "markdown",
      "metadata": {
        "id": "view-in-github",
        "colab_type": "text"
      },
      "source": [
        "<a href=\"https://colab.research.google.com/github/jonkrohn/pytorch/blob/master/notebooks/shallow_net_in_pytorch_DEMO.ipynb\" target=\"_parent\"><img src=\"https://colab.research.google.com/assets/colab-badge.svg\" alt=\"Open In Colab\"/></a>"
      ]
    },
    {
      "cell_type": "markdown",
      "metadata": {
        "id": "LcrCNS6jc5-e",
        "colab_type": "text"
      },
      "source": [
        "# Shallow Neural Network in PyTorch (DEMO)\n",
        "\n",
        "_Remember to change your Runtime type to GPU or TPU_"
      ]
    },
    {
      "cell_type": "markdown",
      "metadata": {
        "id": "mEygUgLVKJ7x",
        "colab_type": "text"
      },
      "source": [
        "#### Load dependencies"
      ]
    },
    {
      "cell_type": "code",
      "metadata": {
        "id": "nfFVh41odSXB",
        "colab_type": "code",
        "colab": {}
      },
      "source": [
        "import torch\n",
        "import torch.nn as nn\n",
        "\n",
        "from torchvision.datasets import MNIST\n",
        "from torchvision import transforms\n",
        "\n",
        "from torchsummary import summary\n",
        "\n",
        "import matplotlib.pyplot as plt"
      ],
      "execution_count": 0,
      "outputs": []
    },
    {
      "cell_type": "markdown",
      "metadata": {
        "id": "6QCoX-S6dj54",
        "colab_type": "text"
      },
      "source": [
        "#### Load data"
      ]
    },
    {
      "cell_type": "code",
      "metadata": {
        "id": "UXk2_Pazef4W",
        "colab_type": "code",
        "colab": {}
      },
      "source": [
        "train = MNIST('data', train=True, transform=transforms.ToTensor(), download=True)\n",
        "test = MNIST('data', train=False, transform=transforms.ToTensor())\n",
        "# ...toTensor() scales pixels from [0, 255] to [0, 1]"
      ],
      "execution_count": 0,
      "outputs": []
    },
    {
      "cell_type": "code",
      "metadata": {
        "id": "EdMVpcOHetgf",
        "colab_type": "code",
        "colab": {}
      },
      "source": [
        "train.data.shape"
      ],
      "execution_count": 0,
      "outputs": []
    },
    {
      "cell_type": "code",
      "metadata": {
        "id": "yZ8hKPF6exuw",
        "colab_type": "code",
        "colab": {}
      },
      "source": [
        "train.data[0] # not scaled! "
      ],
      "execution_count": 0,
      "outputs": []
    },
    {
      "cell_type": "code",
      "metadata": {
        "id": "vzITvYebe6NQ",
        "colab_type": "code",
        "colab": {}
      },
      "source": [
        "plt.imshow(train.data[0].numpy().squeeze(), cmap='gray_r')"
      ],
      "execution_count": 0,
      "outputs": []
    },
    {
      "cell_type": "code",
      "metadata": {
        "id": "kf4i8Q09fCpw",
        "colab_type": "code",
        "colab": {}
      },
      "source": [
        "train.targets[0:100]"
      ],
      "execution_count": 0,
      "outputs": []
    },
    {
      "cell_type": "code",
      "metadata": {
        "id": "e6d0sd_8fQPH",
        "colab_type": "code",
        "colab": {}
      },
      "source": [
        "train.targets.shape"
      ],
      "execution_count": 0,
      "outputs": []
    },
    {
      "cell_type": "code",
      "metadata": {
        "id": "0qST6tDffR9v",
        "colab_type": "code",
        "colab": {}
      },
      "source": [
        "test.data.shape"
      ],
      "execution_count": 0,
      "outputs": []
    },
    {
      "cell_type": "code",
      "metadata": {
        "id": "WyPpoB3dfiwo",
        "colab_type": "code",
        "colab": {}
      },
      "source": [
        "test.targets.shape"
      ],
      "execution_count": 0,
      "outputs": []
    },
    {
      "cell_type": "markdown",
      "metadata": {
        "id": "yYMXOGJvfkCo",
        "colab_type": "text"
      },
      "source": [
        "#### Batch data"
      ]
    },
    {
      "cell_type": "code",
      "metadata": {
        "id": "8IySNK8Ef6Eq",
        "colab_type": "code",
        "colab": {}
      },
      "source": [
        "train_loader = torch.utils.data.DataLoader(train, batch_size=128, shuffle=True) \n",
        "test_loader = torch.utils.data.DataLoader(test, batch_size=128) \n",
        "# ...DataLoader() can also sample and run multithreaded over a set number of workers"
      ],
      "execution_count": 0,
      "outputs": []
    },
    {
      "cell_type": "code",
      "metadata": {
        "id": "SLfWTrjshEsh",
        "colab_type": "code",
        "colab": {}
      },
      "source": [
        "X_sample, y_sample = iter(train_loader).next()"
      ],
      "execution_count": 0,
      "outputs": []
    },
    {
      "cell_type": "code",
      "metadata": {
        "id": "5fc-M4JCiRTW",
        "colab_type": "code",
        "colab": {}
      },
      "source": [
        "X_sample.shape"
      ],
      "execution_count": 0,
      "outputs": []
    },
    {
      "cell_type": "code",
      "metadata": {
        "id": "2TCZnZR-iWvo",
        "colab_type": "code",
        "colab": {}
      },
      "source": [
        "y_sample.shape"
      ],
      "execution_count": 0,
      "outputs": []
    },
    {
      "cell_type": "code",
      "metadata": {
        "id": "8uk1_iPDiXR7",
        "colab_type": "code",
        "colab": {}
      },
      "source": [
        "y_sample"
      ],
      "execution_count": 0,
      "outputs": []
    },
    {
      "cell_type": "code",
      "metadata": {
        "id": "Sf4z56RKi1ja",
        "colab_type": "code",
        "colab": {}
      },
      "source": [
        "X_sample[0]"
      ],
      "execution_count": 0,
      "outputs": []
    },
    {
      "cell_type": "code",
      "metadata": {
        "id": "zlj29yCske1c",
        "colab_type": "code",
        "colab": {}
      },
      "source": [
        "X_flat_sample = X_sample.view(X_sample.shape[0], -1) # view() reshapes Tensor (confusingly)"
      ],
      "execution_count": 0,
      "outputs": []
    },
    {
      "cell_type": "code",
      "metadata": {
        "id": "8VtnEEvLi4UD",
        "colab_type": "code",
        "colab": {}
      },
      "source": [
        "X_flat_sample.shape"
      ],
      "execution_count": 0,
      "outputs": []
    },
    {
      "cell_type": "code",
      "metadata": {
        "id": "Koet4ZSgkSHu",
        "colab_type": "code",
        "colab": {}
      },
      "source": [
        "X_flat_sample[0]"
      ],
      "execution_count": 0,
      "outputs": []
    },
    {
      "cell_type": "markdown",
      "metadata": {
        "id": "s-lTFFhdkogC",
        "colab_type": "text"
      },
      "source": [
        "#### Design neural network architecture"
      ]
    },
    {
      "cell_type": "code",
      "metadata": {
        "id": "mkwmSP10k8Y7",
        "colab_type": "code",
        "colab": {}
      },
      "source": [
        "n_input = 784\n",
        "n_dense = 64\n",
        "n_out = 10"
      ],
      "execution_count": 0,
      "outputs": []
    },
    {
      "cell_type": "code",
      "metadata": {
        "id": "XLAYTQcrk208",
        "colab_type": "code",
        "colab": {}
      },
      "source": [
        "model = nn.Sequential(\n",
        "    nn.Linear(n_input, n_dense), # hidden layer\n",
        "    nn.Sigmoid(), # activation function\n",
        "    nn.Linear(n_dense, n_out) # output layer\n",
        ")"
      ],
      "execution_count": 0,
      "outputs": []
    },
    {
      "cell_type": "code",
      "metadata": {
        "id": "ELhOOEzcmMjN",
        "colab_type": "code",
        "colab": {}
      },
      "source": [
        "summary(model, (1, n_input))"
      ],
      "execution_count": 0,
      "outputs": []
    },
    {
      "cell_type": "markdown",
      "metadata": {
        "id": "ad12qUaumQNF",
        "colab_type": "text"
      },
      "source": [
        "#### Configure training hyperparameters"
      ]
    },
    {
      "cell_type": "code",
      "metadata": {
        "id": "MApHSXQGmfdE",
        "colab_type": "code",
        "colab": {}
      },
      "source": [
        "cost_fxn = nn.CrossEntropyLoss() # includes softmax activation"
      ],
      "execution_count": 0,
      "outputs": []
    },
    {
      "cell_type": "code",
      "metadata": {
        "id": "K0c1Iqnpm32m",
        "colab_type": "code",
        "colab": {}
      },
      "source": [
        "optimizer = torch.optim.SGD(model.parameters(), lr=0.01)"
      ],
      "execution_count": 0,
      "outputs": []
    },
    {
      "cell_type": "markdown",
      "metadata": {
        "id": "V3836ImZnQ6_",
        "colab_type": "text"
      },
      "source": [
        "#### Train"
      ]
    },
    {
      "cell_type": "code",
      "metadata": {
        "id": "p9iTkEv6nVHB",
        "colab_type": "code",
        "colab": {}
      },
      "source": [
        "def accuracy_pct(pred_y, true_y):\n",
        "  _, prediction = torch.max(pred_y, 1) # returns maximum values, indices; fed tensor, dim to reduce\n",
        "  correct = (prediction == true_y).sum().item()\n",
        "  return (correct / true_y.shape[0]) * 100.0"
      ],
      "execution_count": 0,
      "outputs": []
    },
    {
      "cell_type": "code",
      "metadata": {
        "id": "qkd4YuS4xBaF",
        "colab_type": "code",
        "colab": {}
      },
      "source": [
        "n_batches = len(train_loader)\n",
        "n_batches"
      ],
      "execution_count": 0,
      "outputs": []
    },
    {
      "cell_type": "code",
      "metadata": {
        "id": "ka2rxjOcnY_1",
        "colab_type": "code",
        "colab": {}
      },
      "source": [
        "n_epochs = 20 \n",
        "\n",
        "print('Training for {} epochs. \\n'.format(n_epochs))\n",
        "\n",
        "for epoch in range(n_epochs):\n",
        "  \n",
        "  avg_cost = 0.0\n",
        "  avg_accuracy = 0.0\n",
        "  \n",
        "  for i, (X, y) in enumerate(train_loader): # enumerate() provides count of iterations  \n",
        "    \n",
        "    # forward propagation:\n",
        "    X_flat = X.view(X.shape[0], -1)\n",
        "    y_hat = model(X_flat)\n",
        "    cost = cost_fxn(y_hat, y)\n",
        "    avg_cost += cost / n_batches\n",
        "    \n",
        "    # backprop and optimization via gradient descent: \n",
        "    optimizer.zero_grad() # set gradients to zero; .backward() accumulates them in buffers\n",
        "    cost.backward()\n",
        "    optimizer.step()\n",
        "    \n",
        "    # calculate accuracy metric:\n",
        "    accuracy = accuracy_pct(y_hat, y)\n",
        "    avg_accuracy += accuracy / n_batches\n",
        "    \n",
        "    if (i + 1) % 100 == 0:\n",
        "      print('Step {}'.format(i + 1))\n",
        "    \n",
        "  print('Epoch {}/{} complete: Cost: {:.3f}, Accuracy: {:.1f}% \\n'\n",
        "        .format(epoch + 1, n_epochs, avg_cost, avg_accuracy)) \n",
        "\n",
        "print('Training complete.')"
      ],
      "execution_count": 0,
      "outputs": []
    },
    {
      "cell_type": "markdown",
      "metadata": {
        "id": "xmUI1Z7jj0XO",
        "colab_type": "text"
      },
      "source": [
        "#### Test model"
      ]
    },
    {
      "cell_type": "code",
      "metadata": {
        "id": "r1-3E_YfkIL7",
        "colab_type": "code",
        "colab": {}
      },
      "source": [
        "n_test_batches = len(test_loader)\n",
        "n_test_batches"
      ],
      "execution_count": 0,
      "outputs": []
    },
    {
      "cell_type": "code",
      "metadata": {
        "id": "DPU-rP_7jtk_",
        "colab_type": "code",
        "colab": {}
      },
      "source": [
        "model.eval() # disables dropout (and batch norm)\n",
        "\n",
        "with torch.no_grad(): # disables autograd, reducing memory consumption\n",
        "  \n",
        "  avg_test_cost = 0.0\n",
        "  avg_test_acc = 0.0\n",
        "  \n",
        "  for X, y in test_loader:\n",
        "    \n",
        "    # make predictions: \n",
        "    X_flat = X.view(X.shape[0], -1)\n",
        "    y_hat = model(X_flat)\n",
        "    \n",
        "    # calculate cost: \n",
        "    cost = cost_fxn(y_hat, y)\n",
        "    avg_test_cost += cost / n_test_batches\n",
        "    \n",
        "    # calculate accuracy:\n",
        "    test_accuracy = accuracy_pct(y_hat, y)\n",
        "    avg_test_acc += test_accuracy / n_test_batches\n",
        "\n",
        "print('Test cost: {:.3f}, Test accuracy: {:.1f}%'.format(avg_test_cost, avg_test_acc))\n",
        "\n",
        "# model.train() # 'undoes' model.eval()"
      ],
      "execution_count": 0,
      "outputs": []
    }
  ]
}
